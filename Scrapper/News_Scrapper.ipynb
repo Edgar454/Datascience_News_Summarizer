{
 "cells": [
  {
   "cell_type": "code",
   "execution_count": 1,
   "id": "cc344e01",
   "metadata": {},
   "outputs": [],
   "source": [
    "from selenium import webdriver\n",
    "from selenium.webdriver.common.by import By\n",
    "from selenium.webdriver.common.keys import Keys\n",
    "from selenium.common.exceptions import NoSuchElementException\n",
    "from selenium.webdriver.chrome.service import Service \n",
    "\n",
    "from selenium.webdriver.support.ui import WebDriverWait\n",
    "from selenium.webdriver.support import expected_conditions"
   ]
  },
  {
   "cell_type": "code",
   "execution_count": 2,
   "id": "6fd5be36",
   "metadata": {},
   "outputs": [],
   "source": [
    "service = Service('M:/chromedriver-win64/chromedriver-win64/chromedriver.exe')\n",
    "driver = webdriver.Chrome(service = service)"
   ]
  },
  {
   "cell_type": "code",
   "execution_count": 10,
   "id": "3842d01b",
   "metadata": {},
   "outputs": [],
   "source": [
    "# innovative implementation\n",
    "url_1 = 'https://www.techtarget.com/searchenterpriseai/tip/9-top-applications-of-artificial-intelligence-in-business'\n",
    "\n",
    "#interviews\n",
    "url_2 = 'https://aitechtrend.com/category/interview/'\n",
    "#ethics\n",
    "url_3 = 'https://www.datasciencecentral.com/category/business-topics/ai-ethics/'\n",
    "\n",
    "# career\n",
    "url_4 = 'https://www.kdnuggets.com/tag/career-advice'"
   ]
  },
  {
   "cell_type": "markdown",
   "id": "43729ee7",
   "metadata": {},
   "source": [
    "# Scrapping Techtarget"
   ]
  },
  {
   "cell_type": "code",
   "execution_count": 14,
   "id": "70b63dd5",
   "metadata": {},
   "outputs": [],
   "source": [
    "driver.get(url_1)"
   ]
  },
  {
   "cell_type": "code",
   "execution_count": 22,
   "id": "bd582287",
   "metadata": {},
   "outputs": [
    {
     "data": {
      "text/plain": [
       "\"1. AI-enabled innovations, products and services\\nAlthough organizations are only beginning to harness the potential of artificial intelligence, some are already using the technology to fuel innovation and create new products and services.\\nAmazon Alexa and other similar virtual assistants are some of the most well-known examples, but experts said companies across industries are finding ways to incorporate AI into their wares or use AI to develop new offerings.\\nSeth Earley\\nAs an example, Seth Earley, author of The AI-Powered Enterprise and founder and CEO of Earley Information Science, pointed to a company using AI to improve its telecommunications platform. The organization is also employing machine learning and other AI technologies to improve the quality of the speaker's voice and image and to keep the images of others participating from becoming distorted on screen.\\nBrian Jackson, principal research director at Info-Tech Research Group, highlighted a retailer that's collaborating with artists to feature their designs on clothing, using AI to develop the art and manufacturing merchandise to order.\""
      ]
     },
     "execution_count": 22,
     "metadata": {},
     "output_type": "execute_result"
    }
   ],
   "source": [
    "application_chapters = driver.find_elements(By.CLASS_NAME , 'main-article-chapter')\n",
    "application_chapters[0].text"
   ]
  },
  {
   "cell_type": "code",
   "execution_count": null,
   "id": "40761ace",
   "metadata": {},
   "outputs": [],
   "source": []
  },
  {
   "cell_type": "code",
   "execution_count": null,
   "id": "0c92f37e",
   "metadata": {},
   "outputs": [],
   "source": []
  },
  {
   "cell_type": "code",
   "execution_count": null,
   "id": "0f10a8c6",
   "metadata": {},
   "outputs": [],
   "source": []
  },
  {
   "cell_type": "markdown",
   "id": "a5f95b3d",
   "metadata": {},
   "source": [
    "# Scrapping aitechtrend"
   ]
  },
  {
   "cell_type": "code",
   "execution_count": 11,
   "id": "e833e332",
   "metadata": {},
   "outputs": [],
   "source": [
    "driver.get(url_2)"
   ]
  },
  {
   "cell_type": "code",
   "execution_count": null,
   "id": "860e0db1",
   "metadata": {},
   "outputs": [],
   "source": []
  },
  {
   "cell_type": "code",
   "execution_count": null,
   "id": "5ef49917",
   "metadata": {},
   "outputs": [],
   "source": []
  },
  {
   "cell_type": "code",
   "execution_count": null,
   "id": "975a98b6",
   "metadata": {},
   "outputs": [],
   "source": []
  }
 ],
 "metadata": {
  "kernelspec": {
   "display_name": "Python 3 (ipykernel)",
   "language": "python",
   "name": "python3"
  },
  "language_info": {
   "codemirror_mode": {
    "name": "ipython",
    "version": 3
   },
   "file_extension": ".py",
   "mimetype": "text/x-python",
   "name": "python",
   "nbconvert_exporter": "python",
   "pygments_lexer": "ipython3",
   "version": "3.9.13"
  }
 },
 "nbformat": 4,
 "nbformat_minor": 5
}
